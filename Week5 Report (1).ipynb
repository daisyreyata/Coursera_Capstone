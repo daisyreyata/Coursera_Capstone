{
 "cells": [
  {
   "cell_type": "markdown",
   "metadata": {},
   "source": [
    "<b>Introduction"
   ]
  },
  {
   "cell_type": "markdown",
   "metadata": {},
   "source": [
    "Mr. Client wants to put up a family-friendly restaurant in Amsterdam. Family-friendly means parents, aunts, uncles, grandparents or guardians can either:\n",
    "<ul><li>spend some quality time (eat-play-laugh-repeat) with their little ones; or \n",
    "    <li>have their own quality time by allowing little ones to enjoy the place.</li>\n",
    "<br>\n",
    "But where in Amsterdam?\n",
    "\n",
    "Another point: Mr. Client requires that his restaurant be either the first of its kind (family-friendly) in the neighborhood/borough or nearest to one of the top 10 attractions in the city.\n",
    "   "
   ]
  },
  {
   "cell_type": "markdown",
   "metadata": {},
   "source": [
    "<b>Data"
   ]
  },
  {
   "cell_type": "markdown",
   "metadata": {},
   "source": [
    "<ol><li>A Wikipedia page  <a href=\"https://en.wikipedia.org/wiki/Boroughs_of_Amsterdam\">Boroughs of Amsterdam</a> will be scraped using BeautifulSoup. The data will then be cleaned and be read into pandas dataframe.\n",
    "    <li>Foursquare API will be used to explore the boroughs and to search for presence of the same restaurant type. - Find which borough where there the restaurant can be the first.\n",
    "    <li>An article <a href=\"https://www.iamsterdam.com/en/i-am/i-amsterdam-city-card/what-is-included/a-chance-to-explore-the-amsterdam-region\">Top 10 Attractions</a> will be used to see the other location options of where to put the restaurant.\n",
    "     <li>Foursquare API will be used to explore the attactions.\n"
   ]
  },
  {
   "cell_type": "markdown",
   "metadata": {},
   "source": [
    "<b>Methodology</b>"
   ]
  },
  {
   "cell_type": "markdown",
   "metadata": {},
   "source": [
    "1. Scrape the list of boroughs.\n",
    "\n",
    "2. The list was then merged to a CSV file where the coordinates can be found. (Recommend to automate this next time.)\n",
    "\n",
    "3. The merged CSV is then put to a data frame where columns ‘Borough’, ‘Latitude’ and ‘Longitude’ are displayed and the rest of the columns dropped.\n",
    "<img src=\"Screen Shot 2019-01-18 at 10.59.30 PM.png\" height=\"300\" width=\"300\">\n",
    "\n",
    "4. Initial plan was to use in Foursquare the query = ‘kid’ or ‘child’, however, the result is too few. The query used was ‘family’ instead. This does not totally change the focus of the problem since the objective was to find a location to put up a ‘kid-friendly’ restaurant. Changing the keyword to ‘family’ somehow widens the exploration of venues in Foursquare.\n",
    "\n",
    "5. Foursquare returned values of the exploration for all boroughs, which means there is no borough where the idea of ’family’ oriented  cannot be found.\n",
    "<img src=\"Screen Shot 2019-01-18 at 11.07.18 PM.png\" height=\"600\" width=\"600\">\n",
    "\n",
    "6. One hot encoding group by ‘Borough’ was done.\n",
    "\n",
    "7. Another set of data was scraped to get the top 10 attractions in Amsterdam. The same concept used in the Borough was done to get the nearby venues in the top 10 attractions.\n",
    "<img src=\"Screen Shot 2019-01-18 at 11.22.48 PM.png\" height=\"300\" width=\"300\">\n",
    "<img src=\"Screen Shot 2019-01-18 at 11.26.12 PM.png\" height=\"600\" width=\"600\">\n",
    "\n"
   ]
  },
  {
   "cell_type": "markdown",
   "metadata": {},
   "source": [
    "<b> Results and Discussion</b> "
   ]
  },
  {
   "cell_type": "markdown",
   "metadata": {},
   "source": [
    "Using the Boroughs data:<br>\n",
    "A restaurant can be put up in Westpoort(West Gateway) since only one Hotel category exists in the area and no other restaurants can be found. This area also has the least number of venue category which can be good for further exploration and introduction of new business.\n",
    "<img src=\"Screen Shot 2019-01-18 at 11.09.44 PM.png\" height=\"250\" width=\"250\">\n",
    "<img src=\"Screen Shot 2019-01-18 at 11.10.03 PM.png\" height=\"250\" width=\"250\">\n",
    "<img src=\"Screen Shot 2019-01-18 at 11.10.16 PM.png\" height=\"250\" width=\"250\">\n",
    "\n",
    "<br>\n",
    "Using the Top10 attractions data:<br>\n",
    "It can be observed that the result of the searching for frequency for the top nearby venues is that in the attraction ‘Artis Royal Zoo’, no restaurant appeared. This can be a good location to explore further and to set up a restaurant.\n",
    "<img src=\"Screen Shot 2019-01-18 at 11.23.40 PM.png\" height=\"250\" width=\"250\">\n",
    "<img src=\"Screen Shot 2019-01-18 at 11.23.52 PM.png\" height=\"250\" width=\"250\">\n",
    "<img src=\"Screen Shot 2019-01-18 at 11.24.03 PM.png\" height=\"250\" width=\"250\">\n",
    "<img src=\"Screen Shot 2019-01-18 at 11.24.10 PM.png\" height=\"250\" width=\"250\">"
   ]
  },
  {
   "cell_type": "markdown",
   "metadata": {},
   "source": [
    "<b> Conclusion</b>"
   ]
  },
  {
   "cell_type": "markdown",
   "metadata": {},
   "source": [
    "Possible locations to put up a restaurant are in Westpoort(West Gateway) or near Artis Royal Zoo (located at the Centrum Borough)"
   ]
  }
 ],
 "metadata": {
  "kernelspec": {
   "display_name": "Python 3",
   "language": "python",
   "name": "python3"
  },
  "language_info": {
   "codemirror_mode": {
    "name": "ipython",
    "version": 3
   },
   "file_extension": ".py",
   "mimetype": "text/x-python",
   "name": "python",
   "nbconvert_exporter": "python",
   "pygments_lexer": "ipython3",
   "version": "3.6.6"
  }
 },
 "nbformat": 4,
 "nbformat_minor": 2
}
