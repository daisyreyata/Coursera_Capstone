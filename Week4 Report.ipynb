{
 "cells": [
  {
   "cell_type": "markdown",
   "metadata": {},
   "source": [
    "<h1> Capstone Project"
   ]
  },
  {
   "cell_type": "markdown",
   "metadata": {},
   "source": [
    "<b>Introduction"
   ]
  },
  {
   "cell_type": "markdown",
   "metadata": {},
   "source": [
    "Mr. Client wants to put up a kid-friendly restaurant in Amsterdam. Kid-friendly means parents, aunts, uncles, grandparents or guardians can either:\n",
    "<ul><li>spend some quality time (eat-play-laugh-repeat) with their little ones; or \n",
    "    <li>have their own quality time by allowing little ones to enjoy the place.</li>\n",
    "<br>\n",
    "But where in Amsterdam?\n",
    "\n",
    "Another point: Mr. Client requires that his restaurant be either the first of its kind (kid-friendly) in the neighborhood/borough or nearest to one of the top 10 attractions in the city.\n",
    "   "
   ]
  },
  {
   "cell_type": "markdown",
   "metadata": {},
   "source": [
    "<b>Data"
   ]
  },
  {
   "cell_type": "markdown",
   "metadata": {},
   "source": [
    "<ol><li>A Wikipedia page  <a href=\"https://en.wikipedia.org/wiki/Boroughs_of_Amsterdam\">Boroughs of Amsterdam</a> will be scraped using BeautifulSoup. The data will then be cleaned and be read into pandas dataframe.\n",
    "    <li>Foursquare API will be used to explore the boroughs and to search for presence of the same restaurant type. - Find which borough where there the restaurant can be the first.\n",
    "    <li>An article <a href=\"https://www.iamsterdam.com/en/i-am/i-amsterdam-city-card/what-is-included/a-chance-to-explore-the-amsterdam-region\">Top 10 Attractions</a> will be used to see the other location options of where to put the restaurant>\n",
    "     <li>Foursquare API will be used to explore the attactions.\n"
   ]
  }
 ],
 "metadata": {
  "kernelspec": {
   "display_name": "Python 3",
   "language": "python",
   "name": "python3"
  },
  "language_info": {
   "codemirror_mode": {
    "name": "ipython",
    "version": 3
   },
   "file_extension": ".py",
   "mimetype": "text/x-python",
   "name": "python",
   "nbconvert_exporter": "python",
   "pygments_lexer": "ipython3",
   "version": "3.6.6"
  }
 },
 "nbformat": 4,
 "nbformat_minor": 2
}
